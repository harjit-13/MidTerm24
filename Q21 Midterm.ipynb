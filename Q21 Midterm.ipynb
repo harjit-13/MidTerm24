{
 "cells": [
  {
   "cell_type": "markdown",
   "id": "32f7567a-22ef-48bf-90b5-d376d38f3017",
   "metadata": {},
   "source": [
    "# Question 21\n"
   ]
  },
  {
   "cell_type": "code",
   "execution_count": 29,
   "id": "ea12a032-a85d-4fce-90f7-585595548a1f",
   "metadata": {},
   "outputs": [
    {
     "name": "stdout",
     "output_type": "stream",
     "text": [
      "5.0\n",
      "1.3333333333333333\n"
     ]
    }
   ],
   "source": [
    "import math\n",
    "\n",
    "class Point:\n",
    "   def __init__(self, x=0, y=0):\n",
    "        self.x = x\n",
    "        self.y = y\n",
    "       \n",
    "class Segment:\n",
    "    def __init__(self, point1, point2):\n",
    "        self.point1 = point1\n",
    "        self.point2 = point2\n",
    "\n",
    "    def length(self):\n",
    "        # calculate the length of the segment using disance formula\n",
    "        return math.sqrt((self.point2.x - self.point1.x) ** 2 + (self.point2.y - self.point1.y) **2)\n",
    "\n",
    "    def slope(self):\n",
    "        # check if the line segment is vertical\n",
    "        if self.point2.x - self.point1.x == 0: \n",
    "           return None  # unbounded slope\n",
    "        # calculate the slope\n",
    "        return (self.point2.y - self.point1.y) / (self.point2.x - self.point1.x)\n",
    "\n",
    "# Example usage\n",
    "p1 = Point(3, 4) # Point at (3, 4)\n",
    "p2 = Point(0, 0) # Point at (0, 0)\n",
    "s = Segment(p1,p2)\n",
    "\n",
    "print(s.length())\n",
    "print(s.slope())"
   ]
  },
  {
   "cell_type": "markdown",
   "id": "48d6711f-438d-4b04-a4dd-7d66ccd959e7",
   "metadata": {},
   "source": []
  },
  {
   "cell_type": "markdown",
   "id": "7c773683-24ce-43c0-a8bd-cacac42f8be9",
   "metadata": {},
   "source": []
  }
 ],
 "metadata": {
  "kernelspec": {
   "display_name": "Python 3 (ipykernel)",
   "language": "python",
   "name": "python3"
  },
  "language_info": {
   "codemirror_mode": {
    "name": "ipython",
    "version": 3
   },
   "file_extension": ".py",
   "mimetype": "text/x-python",
   "name": "python",
   "nbconvert_exporter": "python",
   "pygments_lexer": "ipython3",
   "version": "3.12.4"
  }
 },
 "nbformat": 4,
 "nbformat_minor": 5
}
